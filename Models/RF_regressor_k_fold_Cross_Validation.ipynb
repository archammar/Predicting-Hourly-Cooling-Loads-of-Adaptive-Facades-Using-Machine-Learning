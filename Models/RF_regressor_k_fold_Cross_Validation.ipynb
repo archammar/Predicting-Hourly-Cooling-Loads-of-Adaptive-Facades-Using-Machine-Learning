{
 "cells": [
  {
   "cell_type": "markdown",
   "metadata": {},
   "source": [
    "# Importing the required python libraries"
   ]
  },
  {
   "cell_type": "code",
   "execution_count": 1,
   "metadata": {},
   "outputs": [],
   "source": [
    "# import numpy package for arrays and stuff \n",
    "import numpy as np  \n",
    "import csv\n",
    "# import matplotlib.pyplot for plotting our result \n",
    "import matplotlib.pyplot as plt \n",
    "import seaborn as sb # used to plot the heatmap\n",
    "# import pandas for importing csv files and data fromatting\n",
    "import pandas as pd  \n",
    "import pickle\n",
    "# import the regressor \n",
    "from sklearn.tree import DecisionTreeRegressor  \n",
    "from sklearn.ensemble import RandomForestRegressor\n",
    "from sklearn.metrics import mean_squared_error, mean_absolute_error, r2_score\n",
    "from sklearn.model_selection import train_test_split # used to split the data into training set (70%) and testing set (30%)\n",
    "from sklearn.preprocessing import OneHotEncoder # Used to label encoding and one-hot encoding\n",
    "from sklearn.model_selection import KFold"
   ]
  },
  {
   "cell_type": "markdown",
   "metadata": {},
   "source": [
    "# Data loading and preprocessing\n",
    "\n",
    " \n"
   ]
  },
  {
   "cell_type": "code",
   "execution_count": 2,
   "metadata": {},
   "outputs": [],
   "source": [
    "# The data is read as a pandas data frame\n",
    "data_consolidated = pd.read_excel(\"newdatafile.xlsx\", sheet_name=None)\n"
   ]
  },
  {
   "cell_type": "code",
   "execution_count": 3,
   "metadata": {},
   "outputs": [],
   "source": [
    "frames =[keys for keys in data_consolidated]\n",
    "data = pd.concat([data_consolidated['0'], data_consolidated['1']])"
   ]
  },
  {
   "cell_type": "code",
   "execution_count": 4,
   "metadata": {},
   "outputs": [],
   "source": [
    "data = data_consolidated['0']\n",
    "for i in range(1,len(data_consolidated)):\n",
    "    data = pd.concat([data, data_consolidated[str(i)]])"
   ]
  },
  {
   "cell_type": "code",
   "execution_count": 5,
   "metadata": {},
   "outputs": [],
   "source": [
    "data_org=data"
   ]
  },
  {
   "cell_type": "code",
   "execution_count": 6,
   "metadata": {},
   "outputs": [],
   "source": [
    "data_4 = np.zeros((0,25))\n",
    "for i in range(1295):\n",
    "    tmp1 = data.iloc[((i*8760)+1416):((i*8760)+2160),:]\n",
    "    tmp2 = data.iloc[((i*8760)+3624):((i*8760)+4344),:]\n",
    "    tmp3 = data.iloc[((i*8760)+5832):((i*8760)+6552),:]\n",
    "    tmp4 = data.iloc[((i*8760)+8016):((i*8760)+8760),:]\n",
    "    \n",
    "    data_4 = np.concatenate((data_4,tmp1,tmp2,tmp3,tmp4), axis=0)"
   ]
  },
  {
   "cell_type": "code",
   "execution_count": 7,
   "metadata": {},
   "outputs": [],
   "source": [
    "data = data_4"
   ]
  },
  {
   "cell_type": "code",
   "execution_count": 8,
   "metadata": {},
   "outputs": [],
   "source": [
    "data = pd.DataFrame(data, columns = data_org.columns)"
   ]
  },
  {
   "cell_type": "code",
   "execution_count": 9,
   "metadata": {},
   "outputs": [],
   "source": [
    "data=data.drop(['Unnamed: 0', 'in:Date/Time', 'in:Hour', 'in:Building 02', 'in:Building 03','in:AF Shading State', \n",
    "                'out:Heating Loads - KW/m2', 'out:Lighting Loads - KW/m2', 'out:Equipments Loads - KW/m2 ',\n",
    "                'out:Total Cooling Loads - KW/m2', 'out:Total Heating Loads - KW/m2',\n",
    "                'out:Total Lighting Loads - KW/m2',\n",
    "                'out:Total Equipments Loads - KW/m2', 'out:Total EUI - KW/m2'\n",
    "               ], axis=1)"
   ]
  },
  {
   "cell_type": "code",
   "execution_count": 10,
   "metadata": {},
   "outputs": [
    {
     "name": "stdout",
     "output_type": "stream",
     "text": [
      "Index(['in:Orientation', 'in:Building 00', 'in:Building 01',\n",
      "       'in:Facade level Height', 'in:Glazing Type - U-value W/m2K',\n",
      "       'in:Exterior Wall - U-value W/m2K', 'in:AF-(Opening Percentage)',\n",
      "       'in:AF-Shade Factor', 'in:Solar Radiation W/m2',\n",
      "       'in:Operative Temperature', 'out:Cooling Loads - KW/m2', 'in:Hour'],\n",
      "      dtype='object')\n"
     ]
    }
   ],
   "source": [
    "hours=np.array([range(1,25)])\n",
    "\n",
    "hours=hours.T\n",
    "hours.shape\n",
    "H=np.tile(hours,[157990,1])\n",
    "data['in:Hour'] = H\n",
    "print(data.columns)"
   ]
  },
  {
   "cell_type": "code",
   "execution_count": 11,
   "metadata": {},
   "outputs": [],
   "source": [
    "months1 = np.array([3])\n",
    "months1 = np.tile(months1, [744,1])\n",
    "months2 = np.array([6])\n",
    "months2 = np.tile(months2, [720,1])\n",
    "months3 = np.array([9])\n",
    "months3 = np.tile(months3, [720,1])\n",
    "months4 = np.array([12])\n",
    "months4 = np.tile(months4, [744,1])\n",
    "months = np.concatenate((months1, months2,months3, months4), axis=0)\n",
    "months = np.tile(months, [1295,1])\n",
    "months.shape\n",
    "data['in:Month'] = months"
   ]
  },
  {
   "cell_type": "code",
   "execution_count": 12,
   "metadata": {},
   "outputs": [
    {
     "data": {
      "text/html": [
       "<div>\n",
       "<style scoped>\n",
       "    .dataframe tbody tr th:only-of-type {\n",
       "        vertical-align: middle;\n",
       "    }\n",
       "\n",
       "    .dataframe tbody tr th {\n",
       "        vertical-align: top;\n",
       "    }\n",
       "\n",
       "    .dataframe thead th {\n",
       "        text-align: right;\n",
       "    }\n",
       "</style>\n",
       "<table border=\"1\" class=\"dataframe\">\n",
       "  <thead>\n",
       "    <tr style=\"text-align: right;\">\n",
       "      <th></th>\n",
       "      <th>in:Orientation</th>\n",
       "      <th>in:Building 00</th>\n",
       "      <th>in:Building 01</th>\n",
       "      <th>in:Facade level Height</th>\n",
       "      <th>in:Glazing Type - U-value W/m2K</th>\n",
       "      <th>in:Exterior Wall - U-value W/m2K</th>\n",
       "      <th>in:AF-(Opening Percentage)</th>\n",
       "      <th>in:AF-Shade Factor</th>\n",
       "      <th>in:Solar Radiation W/m2</th>\n",
       "      <th>in:Operative Temperature</th>\n",
       "      <th>out:Cooling Loads - KW/m2</th>\n",
       "      <th>in:Hour</th>\n",
       "      <th>in:Month</th>\n",
       "      <th>in:day</th>\n",
       "    </tr>\n",
       "  </thead>\n",
       "  <tbody>\n",
       "    <tr>\n",
       "      <th>0</th>\n",
       "      <td>0</td>\n",
       "      <td>Low</td>\n",
       "      <td>Low</td>\n",
       "      <td>12</td>\n",
       "      <td>SingleG0</td>\n",
       "      <td>0</td>\n",
       "      <td>0.0</td>\n",
       "      <td>1.0</td>\n",
       "      <td>0.0</td>\n",
       "      <td>17.428003</td>\n",
       "      <td>0.0</td>\n",
       "      <td>1</td>\n",
       "      <td>3</td>\n",
       "      <td>1.0</td>\n",
       "    </tr>\n",
       "    <tr>\n",
       "      <th>1</th>\n",
       "      <td>0</td>\n",
       "      <td>Low</td>\n",
       "      <td>Low</td>\n",
       "      <td>12</td>\n",
       "      <td>SingleG0</td>\n",
       "      <td>0</td>\n",
       "      <td>0.0</td>\n",
       "      <td>1.0</td>\n",
       "      <td>0.0</td>\n",
       "      <td>17.150332</td>\n",
       "      <td>0.0</td>\n",
       "      <td>2</td>\n",
       "      <td>3</td>\n",
       "      <td>1.0</td>\n",
       "    </tr>\n",
       "    <tr>\n",
       "      <th>2</th>\n",
       "      <td>0</td>\n",
       "      <td>Low</td>\n",
       "      <td>Low</td>\n",
       "      <td>12</td>\n",
       "      <td>SingleG0</td>\n",
       "      <td>0</td>\n",
       "      <td>0.0</td>\n",
       "      <td>1.0</td>\n",
       "      <td>0.0</td>\n",
       "      <td>16.914902</td>\n",
       "      <td>0.0</td>\n",
       "      <td>3</td>\n",
       "      <td>3</td>\n",
       "      <td>1.0</td>\n",
       "    </tr>\n",
       "    <tr>\n",
       "      <th>3</th>\n",
       "      <td>0</td>\n",
       "      <td>Low</td>\n",
       "      <td>Low</td>\n",
       "      <td>12</td>\n",
       "      <td>SingleG0</td>\n",
       "      <td>0</td>\n",
       "      <td>0.0</td>\n",
       "      <td>1.0</td>\n",
       "      <td>0.0</td>\n",
       "      <td>16.69424</td>\n",
       "      <td>0.0</td>\n",
       "      <td>4</td>\n",
       "      <td>3</td>\n",
       "      <td>1.0</td>\n",
       "    </tr>\n",
       "    <tr>\n",
       "      <th>4</th>\n",
       "      <td>0</td>\n",
       "      <td>Low</td>\n",
       "      <td>Low</td>\n",
       "      <td>12</td>\n",
       "      <td>SingleG0</td>\n",
       "      <td>0</td>\n",
       "      <td>0.0</td>\n",
       "      <td>1.0</td>\n",
       "      <td>0.0</td>\n",
       "      <td>16.474319</td>\n",
       "      <td>0.0</td>\n",
       "      <td>5</td>\n",
       "      <td>3</td>\n",
       "      <td>1.0</td>\n",
       "    </tr>\n",
       "    <tr>\n",
       "      <th>...</th>\n",
       "      <td>...</td>\n",
       "      <td>...</td>\n",
       "      <td>...</td>\n",
       "      <td>...</td>\n",
       "      <td>...</td>\n",
       "      <td>...</td>\n",
       "      <td>...</td>\n",
       "      <td>...</td>\n",
       "      <td>...</td>\n",
       "      <td>...</td>\n",
       "      <td>...</td>\n",
       "      <td>...</td>\n",
       "      <td>...</td>\n",
       "      <td>...</td>\n",
       "    </tr>\n",
       "    <tr>\n",
       "      <th>3791755</th>\n",
       "      <td>3</td>\n",
       "      <td>High</td>\n",
       "      <td>High</td>\n",
       "      <td>60</td>\n",
       "      <td>TripleGlz-Krypton Filled</td>\n",
       "      <td>2</td>\n",
       "      <td>0.0</td>\n",
       "      <td>1.0</td>\n",
       "      <td>0.0</td>\n",
       "      <td>19.278899</td>\n",
       "      <td>0.0</td>\n",
       "      <td>20</td>\n",
       "      <td>12</td>\n",
       "      <td>30.0</td>\n",
       "    </tr>\n",
       "    <tr>\n",
       "      <th>3791756</th>\n",
       "      <td>3</td>\n",
       "      <td>High</td>\n",
       "      <td>High</td>\n",
       "      <td>60</td>\n",
       "      <td>TripleGlz-Krypton Filled</td>\n",
       "      <td>2</td>\n",
       "      <td>0.0</td>\n",
       "      <td>1.0</td>\n",
       "      <td>0.0</td>\n",
       "      <td>19.17135</td>\n",
       "      <td>0.0</td>\n",
       "      <td>21</td>\n",
       "      <td>12</td>\n",
       "      <td>30.0</td>\n",
       "    </tr>\n",
       "    <tr>\n",
       "      <th>3791757</th>\n",
       "      <td>3</td>\n",
       "      <td>High</td>\n",
       "      <td>High</td>\n",
       "      <td>60</td>\n",
       "      <td>TripleGlz-Krypton Filled</td>\n",
       "      <td>2</td>\n",
       "      <td>0.0</td>\n",
       "      <td>1.0</td>\n",
       "      <td>0.0</td>\n",
       "      <td>19.070901</td>\n",
       "      <td>0.0</td>\n",
       "      <td>22</td>\n",
       "      <td>12</td>\n",
       "      <td>30.0</td>\n",
       "    </tr>\n",
       "    <tr>\n",
       "      <th>3791758</th>\n",
       "      <td>3</td>\n",
       "      <td>High</td>\n",
       "      <td>High</td>\n",
       "      <td>60</td>\n",
       "      <td>TripleGlz-Krypton Filled</td>\n",
       "      <td>2</td>\n",
       "      <td>0.0</td>\n",
       "      <td>1.0</td>\n",
       "      <td>0.0</td>\n",
       "      <td>18.967557</td>\n",
       "      <td>0.0</td>\n",
       "      <td>23</td>\n",
       "      <td>12</td>\n",
       "      <td>30.0</td>\n",
       "    </tr>\n",
       "    <tr>\n",
       "      <th>3791759</th>\n",
       "      <td>3</td>\n",
       "      <td>High</td>\n",
       "      <td>High</td>\n",
       "      <td>60</td>\n",
       "      <td>TripleGlz-Krypton Filled</td>\n",
       "      <td>2</td>\n",
       "      <td>0.0</td>\n",
       "      <td>1.0</td>\n",
       "      <td>0.0</td>\n",
       "      <td>18.862868</td>\n",
       "      <td>0.0</td>\n",
       "      <td>24</td>\n",
       "      <td>12</td>\n",
       "      <td>30.0</td>\n",
       "    </tr>\n",
       "  </tbody>\n",
       "</table>\n",
       "<p>3791760 rows × 14 columns</p>\n",
       "</div>"
      ],
      "text/plain": [
       "        in:Orientation in:Building 00 in:Building 01 in:Facade level Height  \\\n",
       "0                    0            Low            Low                     12   \n",
       "1                    0            Low            Low                     12   \n",
       "2                    0            Low            Low                     12   \n",
       "3                    0            Low            Low                     12   \n",
       "4                    0            Low            Low                     12   \n",
       "...                ...            ...            ...                    ...   \n",
       "3791755              3           High           High                     60   \n",
       "3791756              3           High           High                     60   \n",
       "3791757              3           High           High                     60   \n",
       "3791758              3           High           High                     60   \n",
       "3791759              3           High           High                     60   \n",
       "\n",
       "        in:Glazing Type - U-value W/m2K in:Exterior Wall - U-value W/m2K  \\\n",
       "0                              SingleG0                                0   \n",
       "1                              SingleG0                                0   \n",
       "2                              SingleG0                                0   \n",
       "3                              SingleG0                                0   \n",
       "4                              SingleG0                                0   \n",
       "...                                 ...                              ...   \n",
       "3791755        TripleGlz-Krypton Filled                                2   \n",
       "3791756        TripleGlz-Krypton Filled                                2   \n",
       "3791757        TripleGlz-Krypton Filled                                2   \n",
       "3791758        TripleGlz-Krypton Filled                                2   \n",
       "3791759        TripleGlz-Krypton Filled                                2   \n",
       "\n",
       "        in:AF-(Opening Percentage) in:AF-Shade Factor in:Solar Radiation W/m2  \\\n",
       "0                              0.0                1.0                     0.0   \n",
       "1                              0.0                1.0                     0.0   \n",
       "2                              0.0                1.0                     0.0   \n",
       "3                              0.0                1.0                     0.0   \n",
       "4                              0.0                1.0                     0.0   \n",
       "...                            ...                ...                     ...   \n",
       "3791755                        0.0                1.0                     0.0   \n",
       "3791756                        0.0                1.0                     0.0   \n",
       "3791757                        0.0                1.0                     0.0   \n",
       "3791758                        0.0                1.0                     0.0   \n",
       "3791759                        0.0                1.0                     0.0   \n",
       "\n",
       "        in:Operative Temperature out:Cooling Loads - KW/m2  in:Hour  in:Month  \\\n",
       "0                      17.428003                       0.0        1         3   \n",
       "1                      17.150332                       0.0        2         3   \n",
       "2                      16.914902                       0.0        3         3   \n",
       "3                       16.69424                       0.0        4         3   \n",
       "4                      16.474319                       0.0        5         3   \n",
       "...                          ...                       ...      ...       ...   \n",
       "3791755                19.278899                       0.0       20        12   \n",
       "3791756                 19.17135                       0.0       21        12   \n",
       "3791757                19.070901                       0.0       22        12   \n",
       "3791758                18.967557                       0.0       23        12   \n",
       "3791759                18.862868                       0.0       24        12   \n",
       "\n",
       "         in:day  \n",
       "0           1.0  \n",
       "1           1.0  \n",
       "2           1.0  \n",
       "3           1.0  \n",
       "4           1.0  \n",
       "...         ...  \n",
       "3791755    30.0  \n",
       "3791756    30.0  \n",
       "3791757    30.0  \n",
       "3791758    30.0  \n",
       "3791759    30.0  \n",
       "\n",
       "[3791760 rows x 14 columns]"
      ]
     },
     "execution_count": 12,
     "metadata": {},
     "output_type": "execute_result"
    }
   ],
   "source": [
    "daytype1 = np.zeros((1,1))\n",
    "for i in range(30):\n",
    "    t = np.repeat(i+1,24)\n",
    "    t = np.reshape(t,(t.shape[0],1))\n",
    "#     print(t)\n",
    "#     print(t.shape)\n",
    "    daytype1 = np.concatenate((daytype1, t  ), axis=0)\n",
    "\n",
    "daytype1 = daytype1[1:,:]\n",
    "t = np.repeat(31,24)\n",
    "t = np.reshape(t,(t.shape[0],1))\n",
    "daytype2 = np.concatenate((daytype1, t), axis=0) \n",
    "\n",
    "day = np.concatenate((daytype1, daytype2, daytype2, daytype1), axis=0)\n",
    "day = np.tile(day, [1295,1])\n",
    "data['in:day'] = day\n",
    "data"
   ]
  },
  {
   "cell_type": "markdown",
   "metadata": {},
   "source": [
    "### One-hot encoding of categorical features"
   ]
  },
  {
   "cell_type": "code",
   "execution_count": 13,
   "metadata": {},
   "outputs": [],
   "source": [
    "# Array that specifies which columns are categorical inputs\n",
    "categorical_features = [ 'in:Orientation', 'in:Building 00',\n",
    "       'in:Building 01', 'in:Glazing Type - U-value W/m2K',\n",
    "       'in:Exterior Wall - U-value W/m2K', 'in:Hour', 'in:Month', 'in:day',] # Except column \"7\", all are label encoded and \"7\" is \n",
    "                                                               # one-hot encoded. \n",
    "# Array that specifies which columns are continuous inputs\n",
    "contnuous_features = ['in:Facade level Height','in:AF-(Opening Percentage)', 'in:AF-Shade Factor',\n",
    "       'in:Solar Radiation W/m2', 'in:Operative Temperature']\n",
    "output_feature = 'out:Cooling Loads - KW/m2'  # specifies which column is output\n",
    "\n",
    "\n",
    "temp={}\n",
    "label_encoders = {} \n",
    "# for loop starts for label encoding\n",
    "for i in range(0,len(categorical_features)):\n",
    "    #codes for one-hot encoding\n",
    "    label_encoders[categorical_features[i]] = OneHotEncoder(sparse = 'True',handle_unknown='ignore')\n",
    "    label_encoders[categorical_features[i]].fit(data[categorical_features[i]].values.reshape(-1,1))\n",
    "    temp[categorical_features[i]]=label_encoders[categorical_features[i]].transform(data[categorical_features[i]].values.reshape(-1,1)).toarray() "
   ]
  },
  {
   "cell_type": "code",
   "execution_count": 14,
   "metadata": {},
   "outputs": [
    {
     "name": "stdout",
     "output_type": "stream",
     "text": [
      "(3791760, 4)\n",
      "(3791760, 3)\n",
      "(3791760, 3)\n",
      "(3791760, 4)\n",
      "(3791760, 3)\n",
      "(3791760, 24)\n",
      "(3791760, 4)\n",
      "(3791760, 31)\n"
     ]
    }
   ],
   "source": [
    "#printing the dimensions of each categorical variables after one-hot encoding\n",
    "for i in range(0,len(temp)):\n",
    "    print(temp[categorical_features[i]].shape)"
   ]
  },
  {
   "cell_type": "code",
   "execution_count": 15,
   "metadata": {},
   "outputs": [],
   "source": [
    "# Adding the one hot encoded features into the data\n",
    "# The new columns will be named from 13 onwards.\n",
    "ind=data.shape[1]+1\n",
    "for i in range(0,len(categorical_features)):\n",
    "    for j in range(0,temp[categorical_features[i]].shape[1]):\n",
    "        data[str(ind)] = temp[categorical_features[i]][:,j]\n",
    "        ind=ind+1\n",
    "    data=data.drop([categorical_features[i]], axis=1) # The old column is deleted from the data\n",
    "      \n",
    "    "
   ]
  },
  {
   "cell_type": "code",
   "execution_count": 16,
   "metadata": {},
   "outputs": [
    {
     "name": "stdout",
     "output_type": "stream",
     "text": [
      "        in:Facade level Height in:AF-(Opening Percentage) in:AF-Shade Factor  \\\n",
      "0                           12                        0.0                1.0   \n",
      "1                           12                        0.0                1.0   \n",
      "2                           12                        0.0                1.0   \n",
      "3                           12                        0.0                1.0   \n",
      "4                           12                        0.0                1.0   \n",
      "...                        ...                        ...                ...   \n",
      "3791755                     60                        0.0                1.0   \n",
      "3791756                     60                        0.0                1.0   \n",
      "3791757                     60                        0.0                1.0   \n",
      "3791758                     60                        0.0                1.0   \n",
      "3791759                     60                        0.0                1.0   \n",
      "\n",
      "        in:Solar Radiation W/m2 in:Operative Temperature  \\\n",
      "0                           0.0                17.428003   \n",
      "1                           0.0                17.150332   \n",
      "2                           0.0                16.914902   \n",
      "3                           0.0                 16.69424   \n",
      "4                           0.0                16.474319   \n",
      "...                         ...                      ...   \n",
      "3791755                     0.0                19.278899   \n",
      "3791756                     0.0                 19.17135   \n",
      "3791757                     0.0                19.070901   \n",
      "3791758                     0.0                18.967557   \n",
      "3791759                     0.0                18.862868   \n",
      "\n",
      "        out:Cooling Loads - KW/m2   15   16   17   18  ...   81   82   83  \\\n",
      "0                             0.0  1.0  0.0  0.0  0.0  ...  0.0  0.0  0.0   \n",
      "1                             0.0  1.0  0.0  0.0  0.0  ...  0.0  0.0  0.0   \n",
      "2                             0.0  1.0  0.0  0.0  0.0  ...  0.0  0.0  0.0   \n",
      "3                             0.0  1.0  0.0  0.0  0.0  ...  0.0  0.0  0.0   \n",
      "4                             0.0  1.0  0.0  0.0  0.0  ...  0.0  0.0  0.0   \n",
      "...                           ...  ...  ...  ...  ...  ...  ...  ...  ...   \n",
      "3791755                       0.0  0.0  0.0  0.0  1.0  ...  0.0  0.0  0.0   \n",
      "3791756                       0.0  0.0  0.0  0.0  1.0  ...  0.0  0.0  0.0   \n",
      "3791757                       0.0  0.0  0.0  0.0  1.0  ...  0.0  0.0  0.0   \n",
      "3791758                       0.0  0.0  0.0  0.0  1.0  ...  0.0  0.0  0.0   \n",
      "3791759                       0.0  0.0  0.0  0.0  1.0  ...  0.0  0.0  0.0   \n",
      "\n",
      "          84   85   86   87   88   89   90  \n",
      "0        0.0  0.0  0.0  0.0  0.0  0.0  0.0  \n",
      "1        0.0  0.0  0.0  0.0  0.0  0.0  0.0  \n",
      "2        0.0  0.0  0.0  0.0  0.0  0.0  0.0  \n",
      "3        0.0  0.0  0.0  0.0  0.0  0.0  0.0  \n",
      "4        0.0  0.0  0.0  0.0  0.0  0.0  0.0  \n",
      "...      ...  ...  ...  ...  ...  ...  ...  \n",
      "3791755  0.0  0.0  0.0  0.0  0.0  1.0  0.0  \n",
      "3791756  0.0  0.0  0.0  0.0  0.0  1.0  0.0  \n",
      "3791757  0.0  0.0  0.0  0.0  0.0  1.0  0.0  \n",
      "3791758  0.0  0.0  0.0  0.0  0.0  1.0  0.0  \n",
      "3791759  0.0  0.0  0.0  0.0  0.0  1.0  0.0  \n",
      "\n",
      "[3791760 rows x 82 columns]\n",
      "(3791760, 82)\n"
     ]
    }
   ],
   "source": [
    "print(data) # Data after one-hot encoding.\n",
    "print(data.shape)     # New dimension of the data. "
   ]
  },
  {
   "cell_type": "markdown",
   "metadata": {},
   "source": [
    "# Modeling with Decision Tree for Regression"
   ]
  },
  {
   "cell_type": "code",
   "execution_count": 17,
   "metadata": {},
   "outputs": [
    {
     "name": "stdout",
     "output_type": "stream",
     "text": [
      "The input data....\n",
      "(3791760, 82)\n"
     ]
    }
   ],
   "source": [
    "# Variable X will seperate the input variables from data\n",
    "X = data.values # First 11 columns are taken \n",
    "# X=np.concatenate((X,data.iloc[:, 4:].values),axis=1) # \"or1\",\"or2,\"or3\" and \"or4\" are appended to first 11 columns\n",
    "# y = data.iloc[:, 3].values # output column is stored into variable y\n",
    "print(\"The input data....\")\n",
    "# print(X[:,0:5])\n",
    "print(X.shape)\n",
    "# print(\"The output data\")\n",
    "# print(y)\n",
    "# print(y.shape)"
   ]
  },
  {
   "cell_type": "code",
   "execution_count": 18,
   "metadata": {},
   "outputs": [],
   "source": [
    "index = np.random.permutation(data.shape[0])\n",
    "np.savetxt(\"indexRF.csv\", index)"
   ]
  },
  {
   "cell_type": "code",
   "execution_count": 19,
   "metadata": {},
   "outputs": [],
   "source": [
    "filename = 'indexRF.csv'\n",
    "raw_data = open(filename, 'rt')\n",
    "reader = csv.reader(raw_data, delimiter=',', quoting=csv.QUOTE_NONE)\n",
    "x = list(reader)\n",
    "index = np.array(x).astype('float')"
   ]
  },
  {
   "cell_type": "code",
   "execution_count": 20,
   "metadata": {
    "scrolled": false
   },
   "outputs": [
    {
     "name": "stdout",
     "output_type": "stream",
     "text": [
      "(3033408, 82)\n",
      "(758352, 82)\n"
     ]
    }
   ],
   "source": [
    "X=data.values\n",
    "instances=X.shape[0]\n",
    "# index = np.random.permutation(int(instances))\n",
    "train_data=np.zeros((int(np.floor(0.8*instances)), X.shape[1]))\n",
    "# print(train.shape)\n",
    " \n",
    "\n",
    "for i in range(int(np.floor(0.8*instances))):\n",
    "    train_data[i,:] = X[int(index[i]),:]\n",
    " \n",
    "\n",
    "print(train_data.shape)\n",
    "t4=int(instances)-int(np.floor(0.8*instances))\n",
    "test_new=np.zeros((t4, data.shape[1]))\n",
    " \n",
    "t3=int(np.floor(0.8*instances))\n",
    "\n",
    "for i in range(t4):\n",
    "    test_new[i,:] = X[int(index[i+t3]),:]\n",
    " \n",
    "print(test_new.shape)    "
   ]
  },
  {
   "cell_type": "code",
   "execution_count": 21,
   "metadata": {},
   "outputs": [
    {
     "name": "stdout",
     "output_type": "stream",
     "text": [
      "TRAIN: [ 606682  606683  606684 ... 3033405 3033406 3033407] TEST: [     0      1      2 ... 606679 606680 606681]\n",
      "0 0\n",
      "TRAIN: [      0       1       2 ... 3033405 3033406 3033407] TEST: [ 606682  606683  606684 ... 1213361 1213362 1213363]\n",
      "0 1\n",
      "TRAIN: [      0       1       2 ... 3033405 3033406 3033407] TEST: [1213364 1213365 1213366 ... 1820043 1820044 1820045]\n",
      "0 2\n",
      "TRAIN: [      0       1       2 ... 3033405 3033406 3033407] TEST: [1820046 1820047 1820048 ... 2426724 2426725 2426726]\n",
      "0 3\n",
      "TRAIN: [      0       1       2 ... 2426724 2426725 2426726] TEST: [2426727 2426728 2426729 ... 3033405 3033406 3033407]\n",
      "0 4\n",
      "TRAIN: [ 606682  606683  606684 ... 3033405 3033406 3033407] TEST: [     0      1      2 ... 606679 606680 606681]\n",
      "1 0\n",
      "TRAIN: [      0       1       2 ... 3033405 3033406 3033407] TEST: [ 606682  606683  606684 ... 1213361 1213362 1213363]\n",
      "1 1\n",
      "TRAIN: [      0       1       2 ... 3033405 3033406 3033407] TEST: [1213364 1213365 1213366 ... 1820043 1820044 1820045]\n",
      "1 2\n",
      "TRAIN: [      0       1       2 ... 3033405 3033406 3033407] TEST: [1820046 1820047 1820048 ... 2426724 2426725 2426726]\n",
      "1 3\n",
      "TRAIN: [      0       1       2 ... 2426724 2426725 2426726] TEST: [2426727 2426728 2426729 ... 3033405 3033406 3033407]\n",
      "1 4\n",
      "TRAIN: [ 606682  606683  606684 ... 3033405 3033406 3033407] TEST: [     0      1      2 ... 606679 606680 606681]\n",
      "2 0\n",
      "TRAIN: [      0       1       2 ... 3033405 3033406 3033407] TEST: [ 606682  606683  606684 ... 1213361 1213362 1213363]\n",
      "2 1\n",
      "TRAIN: [      0       1       2 ... 3033405 3033406 3033407] TEST: [1213364 1213365 1213366 ... 1820043 1820044 1820045]\n",
      "2 2\n",
      "TRAIN: [      0       1       2 ... 3033405 3033406 3033407] TEST: [1820046 1820047 1820048 ... 2426724 2426725 2426726]\n",
      "2 3\n",
      "TRAIN: [      0       1       2 ... 2426724 2426725 2426726] TEST: [2426727 2426728 2426729 ... 3033405 3033406 3033407]\n",
      "2 4\n",
      "TRAIN: [ 606682  606683  606684 ... 3033405 3033406 3033407] TEST: [     0      1      2 ... 606679 606680 606681]\n",
      "3 0\n",
      "TRAIN: [      0       1       2 ... 3033405 3033406 3033407] TEST: [ 606682  606683  606684 ... 1213361 1213362 1213363]\n",
      "3 1\n",
      "TRAIN: [      0       1       2 ... 3033405 3033406 3033407] TEST: [1213364 1213365 1213366 ... 1820043 1820044 1820045]\n",
      "3 2\n",
      "TRAIN: [      0       1       2 ... 3033405 3033406 3033407] TEST: [1820046 1820047 1820048 ... 2426724 2426725 2426726]\n",
      "3 3\n",
      "TRAIN: [      0       1       2 ... 2426724 2426725 2426726] TEST: [2426727 2426728 2426729 ... 3033405 3033406 3033407]\n",
      "3 4\n",
      "TRAIN: [ 606682  606683  606684 ... 3033405 3033406 3033407] TEST: [     0      1      2 ... 606679 606680 606681]\n",
      "4 0\n",
      "TRAIN: [      0       1       2 ... 3033405 3033406 3033407] TEST: [ 606682  606683  606684 ... 1213361 1213362 1213363]\n",
      "4 1\n",
      "TRAIN: [      0       1       2 ... 3033405 3033406 3033407] TEST: [1213364 1213365 1213366 ... 1820043 1820044 1820045]\n",
      "4 2\n",
      "TRAIN: [      0       1       2 ... 3033405 3033406 3033407] TEST: [1820046 1820047 1820048 ... 2426724 2426725 2426726]\n",
      "4 3\n",
      "TRAIN: [      0       1       2 ... 2426724 2426725 2426726] TEST: [2426727 2426728 2426729 ... 3033405 3033406 3033407]\n",
      "4 4\n",
      "TRAIN: [ 606682  606683  606684 ... 3033405 3033406 3033407] TEST: [     0      1      2 ... 606679 606680 606681]\n",
      "5 0\n",
      "TRAIN: [      0       1       2 ... 3033405 3033406 3033407] TEST: [ 606682  606683  606684 ... 1213361 1213362 1213363]\n",
      "5 1\n",
      "TRAIN: [      0       1       2 ... 3033405 3033406 3033407] TEST: [1213364 1213365 1213366 ... 1820043 1820044 1820045]\n",
      "5 2\n",
      "TRAIN: [      0       1       2 ... 3033405 3033406 3033407] TEST: [1820046 1820047 1820048 ... 2426724 2426725 2426726]\n",
      "5 3\n",
      "TRAIN: [      0       1       2 ... 2426724 2426725 2426726] TEST: [2426727 2426728 2426729 ... 3033405 3033406 3033407]\n",
      "5 4\n",
      "TRAIN: [ 606682  606683  606684 ... 3033405 3033406 3033407] TEST: [     0      1      2 ... 606679 606680 606681]\n",
      "6 0\n",
      "TRAIN: [      0       1       2 ... 3033405 3033406 3033407] TEST: [ 606682  606683  606684 ... 1213361 1213362 1213363]\n",
      "6 1\n",
      "TRAIN: [      0       1       2 ... 3033405 3033406 3033407] TEST: [1213364 1213365 1213366 ... 1820043 1820044 1820045]\n",
      "6 2\n",
      "TRAIN: [      0       1       2 ... 3033405 3033406 3033407] TEST: [1820046 1820047 1820048 ... 2426724 2426725 2426726]\n",
      "6 3\n",
      "TRAIN: [      0       1       2 ... 2426724 2426725 2426726] TEST: [2426727 2426728 2426729 ... 3033405 3033406 3033407]\n",
      "6 4\n",
      "TRAIN: [ 606682  606683  606684 ... 3033405 3033406 3033407] TEST: [     0      1      2 ... 606679 606680 606681]\n",
      "7 0\n",
      "TRAIN: [      0       1       2 ... 3033405 3033406 3033407] TEST: [ 606682  606683  606684 ... 1213361 1213362 1213363]\n",
      "7 1\n",
      "TRAIN: [      0       1       2 ... 3033405 3033406 3033407] TEST: [1213364 1213365 1213366 ... 1820043 1820044 1820045]\n",
      "7 2\n",
      "TRAIN: [      0       1       2 ... 3033405 3033406 3033407] TEST: [1820046 1820047 1820048 ... 2426724 2426725 2426726]\n",
      "7 3\n",
      "TRAIN: [      0       1       2 ... 2426724 2426725 2426726] TEST: [2426727 2426728 2426729 ... 3033405 3033406 3033407]\n",
      "7 4\n",
      "TRAIN: [ 606682  606683  606684 ... 3033405 3033406 3033407] TEST: [     0      1      2 ... 606679 606680 606681]\n",
      "8 0\n",
      "TRAIN: [      0       1       2 ... 3033405 3033406 3033407] TEST: [ 606682  606683  606684 ... 1213361 1213362 1213363]\n",
      "8 1\n",
      "TRAIN: [      0       1       2 ... 3033405 3033406 3033407] TEST: [1213364 1213365 1213366 ... 1820043 1820044 1820045]\n",
      "8 2\n",
      "TRAIN: [      0       1       2 ... 3033405 3033406 3033407] TEST: [1820046 1820047 1820048 ... 2426724 2426725 2426726]\n",
      "8 3\n",
      "TRAIN: [      0       1       2 ... 2426724 2426725 2426726] TEST: [2426727 2426728 2426729 ... 3033405 3033406 3033407]\n",
      "8 4\n",
      "TRAIN: [ 606682  606683  606684 ... 3033405 3033406 3033407] TEST: [     0      1      2 ... 606679 606680 606681]\n",
      "9 0\n",
      "TRAIN: [      0       1       2 ... 3033405 3033406 3033407] TEST: [ 606682  606683  606684 ... 1213361 1213362 1213363]\n",
      "9 1\n",
      "TRAIN: [      0       1       2 ... 3033405 3033406 3033407] TEST: [1213364 1213365 1213366 ... 1820043 1820044 1820045]\n",
      "9 2\n",
      "TRAIN: [      0       1       2 ... 3033405 3033406 3033407] TEST: [1820046 1820047 1820048 ... 2426724 2426725 2426726]\n",
      "9 3\n",
      "TRAIN: [      0       1       2 ... 2426724 2426725 2426726] TEST: [2426727 2426728 2426729 ... 3033405 3033406 3033407]\n",
      "9 4\n",
      "TRAIN: [ 606682  606683  606684 ... 3033405 3033406 3033407] TEST: [     0      1      2 ... 606679 606680 606681]\n",
      "10 0\n",
      "TRAIN: [      0       1       2 ... 3033405 3033406 3033407] TEST: [ 606682  606683  606684 ... 1213361 1213362 1213363]\n",
      "10 1\n",
      "TRAIN: [      0       1       2 ... 3033405 3033406 3033407] TEST: [1213364 1213365 1213366 ... 1820043 1820044 1820045]\n",
      "10 2\n",
      "TRAIN: [      0       1       2 ... 3033405 3033406 3033407] TEST: [1820046 1820047 1820048 ... 2426724 2426725 2426726]\n",
      "10 3\n",
      "TRAIN: [      0       1       2 ... 2426724 2426725 2426726] TEST: [2426727 2426728 2426729 ... 3033405 3033406 3033407]\n",
      "10 4\n",
      "TRAIN: [ 606682  606683  606684 ... 3033405 3033406 3033407] TEST: [     0      1      2 ... 606679 606680 606681]\n",
      "11 0\n",
      "TRAIN: [      0       1       2 ... 3033405 3033406 3033407] TEST: [ 606682  606683  606684 ... 1213361 1213362 1213363]\n",
      "11 1\n",
      "TRAIN: [      0       1       2 ... 3033405 3033406 3033407] TEST: [1213364 1213365 1213366 ... 1820043 1820044 1820045]\n",
      "11 2\n",
      "TRAIN: [      0       1       2 ... 3033405 3033406 3033407] TEST: [1820046 1820047 1820048 ... 2426724 2426725 2426726]\n",
      "11 3\n",
      "TRAIN: [      0       1       2 ... 2426724 2426725 2426726] TEST: [2426727 2426728 2426729 ... 3033405 3033406 3033407]\n",
      "11 4\n",
      "TRAIN: [ 606682  606683  606684 ... 3033405 3033406 3033407] TEST: [     0      1      2 ... 606679 606680 606681]\n",
      "12 0\n",
      "TRAIN: [      0       1       2 ... 3033405 3033406 3033407] TEST: [ 606682  606683  606684 ... 1213361 1213362 1213363]\n",
      "12 1\n",
      "TRAIN: [      0       1       2 ... 3033405 3033406 3033407] TEST: [1213364 1213365 1213366 ... 1820043 1820044 1820045]\n",
      "12 2\n",
      "TRAIN: [      0       1       2 ... 3033405 3033406 3033407] TEST: [1820046 1820047 1820048 ... 2426724 2426725 2426726]\n",
      "12 3\n",
      "TRAIN: [      0       1       2 ... 2426724 2426725 2426726] TEST: [2426727 2426728 2426729 ... 3033405 3033406 3033407]\n",
      "12 4\n",
      "TRAIN: [ 606682  606683  606684 ... 3033405 3033406 3033407] TEST: [     0      1      2 ... 606679 606680 606681]\n",
      "13 0\n",
      "TRAIN: [      0       1       2 ... 3033405 3033406 3033407] TEST: [ 606682  606683  606684 ... 1213361 1213362 1213363]\n"
     ]
    },
    {
     "name": "stdout",
     "output_type": "stream",
     "text": [
      "13 1\n",
      "TRAIN: [      0       1       2 ... 3033405 3033406 3033407] TEST: [1213364 1213365 1213366 ... 1820043 1820044 1820045]\n",
      "13 2\n",
      "TRAIN: [      0       1       2 ... 3033405 3033406 3033407] TEST: [1820046 1820047 1820048 ... 2426724 2426725 2426726]\n",
      "13 3\n",
      "TRAIN: [      0       1       2 ... 2426724 2426725 2426726] TEST: [2426727 2426728 2426729 ... 3033405 3033406 3033407]\n",
      "13 4\n",
      "TRAIN: [ 606682  606683  606684 ... 3033405 3033406 3033407] TEST: [     0      1      2 ... 606679 606680 606681]\n",
      "14 0\n",
      "TRAIN: [      0       1       2 ... 3033405 3033406 3033407] TEST: [ 606682  606683  606684 ... 1213361 1213362 1213363]\n",
      "14 1\n",
      "TRAIN: [      0       1       2 ... 3033405 3033406 3033407] TEST: [1213364 1213365 1213366 ... 1820043 1820044 1820045]\n",
      "14 2\n",
      "TRAIN: [      0       1       2 ... 3033405 3033406 3033407] TEST: [1820046 1820047 1820048 ... 2426724 2426725 2426726]\n",
      "14 3\n",
      "TRAIN: [      0       1       2 ... 2426724 2426725 2426726] TEST: [2426727 2426728 2426729 ... 3033405 3033406 3033407]\n",
      "14 4\n",
      "TRAIN: [ 606682  606683  606684 ... 3033405 3033406 3033407] TEST: [     0      1      2 ... 606679 606680 606681]\n",
      "15 0\n",
      "TRAIN: [      0       1       2 ... 3033405 3033406 3033407] TEST: [ 606682  606683  606684 ... 1213361 1213362 1213363]\n",
      "15 1\n",
      "TRAIN: [      0       1       2 ... 3033405 3033406 3033407] TEST: [1213364 1213365 1213366 ... 1820043 1820044 1820045]\n",
      "15 2\n",
      "TRAIN: [      0       1       2 ... 3033405 3033406 3033407] TEST: [1820046 1820047 1820048 ... 2426724 2426725 2426726]\n",
      "15 3\n",
      "TRAIN: [      0       1       2 ... 2426724 2426725 2426726] TEST: [2426727 2426728 2426729 ... 3033405 3033406 3033407]\n",
      "15 4\n",
      "TRAIN: [ 606682  606683  606684 ... 3033405 3033406 3033407] TEST: [     0      1      2 ... 606679 606680 606681]\n",
      "16 0\n",
      "TRAIN: [      0       1       2 ... 3033405 3033406 3033407] TEST: [ 606682  606683  606684 ... 1213361 1213362 1213363]\n",
      "16 1\n",
      "TRAIN: [      0       1       2 ... 3033405 3033406 3033407] TEST: [1213364 1213365 1213366 ... 1820043 1820044 1820045]\n",
      "16 2\n",
      "TRAIN: [      0       1       2 ... 3033405 3033406 3033407] TEST: [1820046 1820047 1820048 ... 2426724 2426725 2426726]\n",
      "16 3\n",
      "TRAIN: [      0       1       2 ... 2426724 2426725 2426726] TEST: [2426727 2426728 2426729 ... 3033405 3033406 3033407]\n",
      "16 4\n",
      "TRAIN: [ 606682  606683  606684 ... 3033405 3033406 3033407] TEST: [     0      1      2 ... 606679 606680 606681]\n",
      "17 0\n",
      "TRAIN: [      0       1       2 ... 3033405 3033406 3033407] TEST: [ 606682  606683  606684 ... 1213361 1213362 1213363]\n",
      "17 1\n",
      "TRAIN: [      0       1       2 ... 3033405 3033406 3033407] TEST: [1213364 1213365 1213366 ... 1820043 1820044 1820045]\n",
      "17 2\n",
      "TRAIN: [      0       1       2 ... 3033405 3033406 3033407] TEST: [1820046 1820047 1820048 ... 2426724 2426725 2426726]\n",
      "17 3\n",
      "TRAIN: [      0       1       2 ... 2426724 2426725 2426726] TEST: [2426727 2426728 2426729 ... 3033405 3033406 3033407]\n",
      "17 4\n",
      "TRAIN: [ 606682  606683  606684 ... 3033405 3033406 3033407] TEST: [     0      1      2 ... 606679 606680 606681]\n",
      "18 0\n",
      "TRAIN: [      0       1       2 ... 3033405 3033406 3033407] TEST: [ 606682  606683  606684 ... 1213361 1213362 1213363]\n",
      "18 1\n",
      "TRAIN: [      0       1       2 ... 3033405 3033406 3033407] TEST: [1213364 1213365 1213366 ... 1820043 1820044 1820045]\n",
      "18 2\n",
      "TRAIN: [      0       1       2 ... 3033405 3033406 3033407] TEST: [1820046 1820047 1820048 ... 2426724 2426725 2426726]\n",
      "18 3\n",
      "TRAIN: [      0       1       2 ... 2426724 2426725 2426726] TEST: [2426727 2426728 2426729 ... 3033405 3033406 3033407]\n",
      "18 4\n",
      "TRAIN: [ 606682  606683  606684 ... 3033405 3033406 3033407] TEST: [     0      1      2 ... 606679 606680 606681]\n",
      "19 0\n",
      "TRAIN: [      0       1       2 ... 3033405 3033406 3033407] TEST: [ 606682  606683  606684 ... 1213361 1213362 1213363]\n",
      "19 1\n",
      "TRAIN: [      0       1       2 ... 3033405 3033406 3033407] TEST: [1213364 1213365 1213366 ... 1820043 1820044 1820045]\n",
      "19 2\n",
      "TRAIN: [      0       1       2 ... 3033405 3033406 3033407] TEST: [1820046 1820047 1820048 ... 2426724 2426725 2426726]\n",
      "19 3\n",
      "TRAIN: [      0       1       2 ... 2426724 2426725 2426726] TEST: [2426727 2426728 2426729 ... 3033405 3033406 3033407]\n",
      "19 4\n"
     ]
    }
   ],
   "source": [
    "n_splits = 5\n",
    "kf = KFold(n_splits)\n",
    "kf.get_n_splits(train_data) \n",
    "KFold(n_splits=5, random_state=None, shuffle=False)\n",
    "trees=[20, 40, 60, 80, 100, 10, 30, 50, 70, 90]\n",
    "# trees= [10, 20]\n",
    "ccp_alphas = [0, 0.010, 0.020, 0.030]\n",
    "# ccp_alphas =[0, 0.010]\n",
    "bootstrap_opt = [True, False]\n",
    "Results = np.zeros((len(trees)*len(bootstrap_opt), n_splits,3))\n",
    "p=0\n",
    "for tree in trees: \n",
    "    for bs in bootstrap_opt:\n",
    "        #for alpha in ccp_alphas:\n",
    "            q=0\n",
    "            for train_index, test_index in kf.split(train_data):\n",
    "                print(\"TRAIN:\", train_index, \"TEST:\", test_index)\n",
    "                X_train, X_test = train_data[train_index], train_data[test_index]\n",
    "         \n",
    "                train = X_train[:,0:len(contnuous_features)] # First 11 columns are taken\n",
    "                train_y = X_train[:,len(contnuous_features)]\n",
    "                train = np.concatenate((train,X_train[:, (len(contnuous_features)+1):]),axis=1) \n",
    "        \n",
    "                test = X_test[:,0:len(contnuous_features)] # First 11 columns are taken\n",
    "                test_y = X_test[:,len(contnuous_features)]\n",
    "                test = np.concatenate((test,X_test[:, (len(contnuous_features)+1):]),axis=1)  \n",
    "        \n",
    "                regr = RandomForestRegressor(n_estimators=tree, bootstrap = bs, ccp_alpha = 0, n_jobs=-1)\n",
    "                regr.fit(train, train_y)\n",
    "                y_pred = regr.predict(test) # Prediction corresponding to the test set\n",
    "                print(p,q)\n",
    "                Results[p,q,0] = mean_squared_error(test_y, y_pred)\n",
    "                Results[p,q,1] = mean_absolute_error(test_y, y_pred)\n",
    "                Results[p,q,2] = r2_score(test_y, y_pred)\n",
    "            \n",
    "                q+=1\n",
    "            p+=1\n"
   ]
  },
  {
   "cell_type": "code",
   "execution_count": 22,
   "metadata": {},
   "outputs": [],
   "source": [
    "np.savetxt('RF_Cross_validation_MSE_results1.csv', Results[:,:,0], delimiter=',')\n",
    "np.savetxt('RF_Cross_validation_MAE_results1.csv', Results[:,:,1], delimiter=',')\n",
    "np.savetxt('RF_Cross_validation_R2_results1.csv', Results[:,:,2], delimiter=',')"
   ]
  },
  {
   "cell_type": "code",
   "execution_count": 23,
   "metadata": {},
   "outputs": [
    {
     "data": {
      "text/plain": [
       "0"
      ]
     },
     "execution_count": 23,
     "metadata": {},
     "output_type": "execute_result"
    }
   ],
   "source": [
    "0%4"
   ]
  },
  {
   "cell_type": "code",
   "execution_count": 24,
   "metadata": {},
   "outputs": [
    {
     "name": "stdout",
     "output_type": "stream",
     "text": [
      "[1.11414836e-07 1.92391918e-07 1.06390933e-07 1.91350502e-07\n",
      " 1.05549456e-07 1.91440714e-07 1.04243895e-07 1.91398991e-07\n",
      " 1.03216978e-07 1.91496689e-07 1.24065120e-07 1.93085234e-07\n",
      " 1.09388316e-07 1.91429393e-07 1.05578979e-07 1.91517721e-07\n",
      " 1.04775117e-07 1.91478603e-07 1.04324074e-07 1.91172172e-07]\n",
      "8\n"
     ]
    }
   ],
   "source": [
    "np.savetxt('RF_Cross_validation_MSE_results1.csv', Results[:,:,0], delimiter=',')\n",
    "np.savetxt('RF_Cross_validation_MAE_results1.csv', Results[:,:,1], delimiter=',')\n",
    "np.savetxt('RF_Cross_validation_R2_results1.csv', Results[:,:,2], delimiter=',')\n",
    "RMSE_summary = Results[:,:,0]\n",
    "RMSE_summary = np.sum(RMSE_summary, axis = 1)\n",
    "print(RMSE_summary)\n",
    "RMSE_summary = np.argmin(RMSE_summary)\n",
    "print(RMSE_summary)\n",
    "\n",
    "ind = RMSE_summary//10\n",
    "tree = trees[ind]\n",
    "\n",
    "if RMSE_summary%2 == 0:\n",
    "    bs = True\n",
    "else:\n",
    "    bs = False"
   ]
  },
  {
   "cell_type": "code",
   "execution_count": 25,
   "metadata": {},
   "outputs": [
    {
     "name": "stdout",
     "output_type": "stream",
     "text": [
      "8\n",
      "20 True\n"
     ]
    }
   ],
   "source": [
    "print(RMSE_summary)\n",
    "print(tree,bs)"
   ]
  },
  {
   "cell_type": "code",
   "execution_count": 26,
   "metadata": {},
   "outputs": [
    {
     "data": {
      "text/plain": [
       "8"
      ]
     },
     "execution_count": 26,
     "metadata": {},
     "output_type": "execute_result"
    }
   ],
   "source": [
    "RMSE_summary"
   ]
  },
  {
   "cell_type": "code",
   "execution_count": 28,
   "metadata": {},
   "outputs": [
    {
     "name": "stdout",
     "output_type": "stream",
     "text": [
      "Final Results\n",
      "RMSE: \n",
      "1.986078835039573e-08\n",
      "MAE: \n",
      "3.1688454368227625e-05\n",
      "R2 score: \n",
      "0.9998538206181501\n"
     ]
    }
   ],
   "source": [
    "train = train_data[:,0:len(contnuous_features)] # First 11 columns are taken\n",
    "train_y = train_data[:,len(contnuous_features)]\n",
    "train = np.concatenate((train,train_data[:, (len(contnuous_features)+1):]),axis=1)  \n",
    "\n",
    "test = test_new[:,0:len(contnuous_features)] # First 11 columns are taken\n",
    "test_y = test_new[:,len(contnuous_features)]\n",
    "test = np.concatenate((test,test_new[:, (len(contnuous_features)+1):]),axis=1)  \n",
    "\n",
    " \n",
    "regr = RandomForestRegressor(n_estimators=tree, bootstrap = bs)\n",
    "regr.fit(train, train_y)\n",
    "\n",
    "y_pred = regr.predict(test) # Prediction corresponding to the test set\n",
    "y_pred=y_pred.reshape(y_pred.shape[0],1) # Reshaping y_pred for visualization\n",
    "test_y=test_y.reshape(test_y.shape[0],1) # The actual values of the test set\n",
    "result=np.concatenate((test_y,y_pred),axis=1) # Actual value and predicted value is stored in \"result\" variable.\n",
    "\n",
    "np.savetxt(\"RF_result.csv\",result)\n",
    "print(\"Final Results\")\n",
    "print(\"RMSE: \")\n",
    "print( mean_squared_error(test_y, y_pred))\n",
    "print(\"MAE: \")      \n",
    "print(mean_absolute_error(test_y, y_pred))\n",
    "print(\"R2 score: \")\n",
    "print(r2_score(test_y, y_pred))"
   ]
  },
  {
   "cell_type": "code",
   "execution_count": 29,
   "metadata": {},
   "outputs": [],
   "source": [
    "np.savetxt(\"test_data.csv\", test_new, delimiter=\",\")"
   ]
  },
  {
   "cell_type": "code",
   "execution_count": 30,
   "metadata": {},
   "outputs": [],
   "source": [
    "#Model saving\n",
    "filename = 'DT_finalized_model1.sav'\n",
    "pickle.dump(regr, open(filename, 'wb'))"
   ]
  },
  {
   "cell_type": "code",
   "execution_count": 31,
   "metadata": {},
   "outputs": [
    {
     "name": "stdout",
     "output_type": "stream",
     "text": [
      "1.986078835039573e-08\n"
     ]
    }
   ],
   "source": [
    "loaded_model = pickle.load(open(filename, 'rb'))\n",
    "y_pred = loaded_model.predict(test)\n",
    "y_pred=y_pred.reshape(y_pred.shape[0],1) # Reshaping y_pred for visualization\n",
    "test_y=test_y.reshape(test_y.shape[0],1) # The actual values of the test set\n",
    "result=np.concatenate((test_y,y_pred),axis=1) # Actual value and predicted value is stored in \"result\" variable.\n",
    "print( mean_squared_error(test_y, y_pred))"
   ]
  },
  {
   "cell_type": "code",
   "execution_count": 32,
   "metadata": {},
   "outputs": [
    {
     "data": {
      "text/plain": [
       "(758352, 2)"
      ]
     },
     "execution_count": 32,
     "metadata": {},
     "output_type": "execute_result"
    }
   ],
   "source": [
    "RES = np.concatenate((test_y,y_pred),axis=1)\n",
    "RES.shape"
   ]
  },
  {
   "cell_type": "code",
   "execution_count": 33,
   "metadata": {},
   "outputs": [],
   "source": [
    "np.savetxt(\"REsult1.csv\", RES)"
   ]
  },
  {
   "cell_type": "code",
   "execution_count": null,
   "metadata": {},
   "outputs": [],
   "source": []
  }
 ],
 "metadata": {
  "kernelspec": {
   "display_name": "Python 3 (ipykernel)",
   "language": "python",
   "name": "python3"
  },
  "language_info": {
   "codemirror_mode": {
    "name": "ipython",
    "version": 3
   },
   "file_extension": ".py",
   "mimetype": "text/x-python",
   "name": "python",
   "nbconvert_exporter": "python",
   "pygments_lexer": "ipython3",
   "version": "3.9.12"
  }
 },
 "nbformat": 4,
 "nbformat_minor": 2
}
